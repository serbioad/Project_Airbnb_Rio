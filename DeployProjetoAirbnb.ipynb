{
 "cells": [
  {
   "cell_type": "code",
   "execution_count": 8,
   "id": "8a3a2cf4",
   "metadata": {},
   "outputs": [
    {
     "name": "stderr",
     "output_type": "stream",
     "text": [
      "2023-05-04 10:18:17.659 \n",
      "  \u001b[33m\u001b[1mWarning:\u001b[0m to view this Streamlit app on a browser, run it with the following\n",
      "  command:\n",
      "\n",
      "    streamlit run C:\\Users\\Aramary\\AppData\\Roaming\\Python\\Python310\\site-packages\\ipykernel_launcher.py [ARGUMENTS]\n"
     ]
    }
   ],
   "source": [
    "import pandas as pd\n",
    "import streamlit as st\n",
    "import joblib\n",
    "\n",
    "\n",
    "x_numericos = {'latitude': 0, 'longitude': 0, 'accommodates': 0, 'bathrooms': 0, 'bedrooms': 0, 'beds': 0, 'extra_people': 0,\n",
    "               'minimum_nights': 0, 'Ano': 0, 'Mes': 0, 'numero_amenities': 0, 'host_listings_count': 0}\n",
    "\n",
    "x_tf = {'host_is_superhost': 0, 'instant_bookable': 0}\n",
    "\n",
    "x_listas = {'property_type': ['Apartment', 'Bed and breakfast', 'Condominium', 'Guest suite', 'Guesthouse', 'Hostel', 'House', 'Loft', 'Other', 'Serviced apartment'],\n",
    "            'room_type': ['Entire home/apt', 'Hotel room', 'Private room', 'Shared room'],\n",
    "            'cancellation_policy': ['flexible', 'moderate', 'strict', 'strict_14_with_grace_period']\n",
    "            }\n",
    "\n",
    "diccionario={}\n",
    "for item in x_listas:\n",
    "    for valor in x_listas[item]:\n",
    "        diccionario[f'{item}_{valor}'] = 0        \n",
    "\n",
    "for item in x_numericos:\n",
    "    if item=='latitude' or item=='longitude':\n",
    "        valor=st.number_input(f'{item}', step=0.00001, value=0.0, format='%.5f')\n",
    "    elif item=='extra_people':\n",
    "        valor=st.number_input(f'{item}', step=0.01, value=0.0)\n",
    "    else:\n",
    "        valor=st.number_input(f'{item}', step=1, value=0)\n",
    "    x_numericos[item]=valor\n",
    "        \n",
    "for item in x_tf:\n",
    "    valor=st.selectbox(f'{item}', ('Sim','Não'))\n",
    "    if valor=='Sim': \n",
    "        x_tf[item]=1\n",
    "    else:\n",
    "        x_tf[item]=0\n",
    "        \n",
    "for item in x_listas:\n",
    "    valor=st.selectbox(f'{item}', x_listas[item])\n",
    "    diccionario[f'{item}_{valor}'] = 1\n",
    "\n",
    "boton=st.button('Prever valor do Imóvel')\n",
    "\n",
    "if boton:\n",
    "    diccionario.update(x_numericos)\n",
    "    diccionario.update(x_tf)\n",
    "    valores_x=pd.DataFrame(diccionario, index=[0])\n",
    "    \n",
    "    #a la hora de hacer mi deploy, cuando voy a pasarle las informaciones al modelo para q haga la prediccion, tienen que estar en el mismo orden en como el modelo fue entrenado\n",
    "    datos=pd.read_csv('dados.csv')\n",
    "    datos=datos.drop('Unnamed: 0', axis=1)\n",
    "    datos=datos.drop('price', axis=1)\n",
    "    \n",
    "    columnas=list(datos.columns)\n",
    "                \n",
    "    valores_x=valores_x[columnas]\n",
    "    modelo=joblib.load('modelo.joblib')\n",
    "    precio=modelo.predict(valores_x)\n",
    "    st.write(precio[0])"
   ]
  }
 ],
 "metadata": {
  "kernelspec": {
   "display_name": "Python 3 (ipykernel)",
   "language": "python",
   "name": "python3"
  },
  "language_info": {
   "codemirror_mode": {
    "name": "ipython",
    "version": 3
   },
   "file_extension": ".py",
   "mimetype": "text/x-python",
   "name": "python",
   "nbconvert_exporter": "python",
   "pygments_lexer": "ipython3",
   "version": "3.10.9"
  }
 },
 "nbformat": 4,
 "nbformat_minor": 5
}
